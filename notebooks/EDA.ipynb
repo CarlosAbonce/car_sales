{
 "cells": [
  {
   "cell_type": "code",
   "execution_count": 5,
   "metadata": {},
   "outputs": [],
   "source": []
  },
  {
   "cell_type": "code",
   "execution_count": null,
   "metadata": {},
   "outputs": [],
   "source": [
    "import pandas as pd\n",
    "import plotly.express as px\n",
    "import streamlit as st\n",
    "\n",
    "car_data = pd.read_csv('vehicles_us.csv') # leer los datos\n",
    "hist_button = st.button('Construir histograma') # crear un botón\n",
    "dispersion_button = st.button('Construir gráfico de dispersión') # crear un botón para el gráfico de dispersión\n",
    "\n",
    "\n",
    "if hist_button: # al hacer clic en el botón\n",
    "    # escribir un mensaje\n",
    "    st.write('Creación de un histograma para el conjunto de datos de anuncios de venta de coches')\n",
    "    \n",
    "    # crear un histograma\n",
    "    fig = px.histogram(car_data, x=\"odometer\")\n",
    "\n",
    "    # mostrar un gráfico Plotly interactivo\n",
    "    st.plotly_chart(fig, use_container_width=True)\n",
    "\n",
    "if dispersion_button:\n",
    "    st.write('Construcción de un gráfico de dispersión para el conjunto de datos de anuncios de venta de coches')\n",
    "    fig_scatter = px.scatter(car_data, x=\"odometer\", y=\"price\", title=\"Gráfico de Dispersión\")\n",
    "    st.plotly_chart(fig_scatter, use_container_width=True)"
   ]
  },
  {
   "cell_type": "markdown",
   "metadata": {},
   "source": [
    "## Esto es opcional, pero si quieres un desafío extra, considera reemplazar los botones por casillas de verificación, las cuales están disponibles en streamlit a través de st.checkbox().\n",
    "\n",
    "Puedes pedirle al usuario o la usuaria que seleccione una casilla de verificación correspondiente a un histograma o un diagrama de dispersión y luego generar un gráfico basado en la casilla de verificación seleccionada. Este es un ejemplo simple de cómo funcionan las casillas de verificación en streamlit:"
   ]
  },
  {
   "cell_type": "code",
   "execution_count": null,
   "metadata": {},
   "outputs": [],
   "source": [
    "import pandas as pd\n",
    "import plotly.express as px\n",
    "import streamlit as st\n",
    "\n",
    "car_data = pd.read_csv('vehicles_us.csv') # leer los datos\n",
    "\n",
    "# Crear casillas de verificación para histograma y gráfico de dispersión\n",
    "show_histogram = st.checkbox('Mostrar histograma')\n",
    "show_scatter = st.checkbox('Mostrar gráfico de dispersión')\n",
    "\n",
    "if show_histogram: # si la casilla de verificación de histograma está seleccionada\n",
    "    st.write('Creación de un histograma para el conjunto de datos de anuncios de venta de coches')\n",
    "    fig = px.histogram(car_data, x=\"odometer\")\n",
    "    st.plotly_chart(fig, use_container_width=True)\n",
    "\n",
    "if show_scatter\n",
    "    st.write('Construcción de un gráfico de dispersión para el conjunto de datos de anuncios de venta de coches')    \n",
    "    fig_scatter = px.scatter(car_data, x=\"odometer\", y=\"price\", title=\"Gráfico de Dispersión\")\n",
    "    st.plotly_chart(fig_scatter, use_container_width=True)\n"
   ]
  }
 ],
 "metadata": {
  "kernelspec": {
   "display_name": "Python 3 (ipykernel)",
   "language": "python",
   "name": "python3"
  },
  "language_info": {
   "codemirror_mode": {
    "name": "ipython",
    "version": 3
   },
   "file_extension": ".py",
   "mimetype": "text/x-python",
   "name": "python",
   "nbconvert_exporter": "python",
   "pygments_lexer": "ipython3",
   "version": "3.11.5"
  }
 },
 "nbformat": 4,
 "nbformat_minor": 2
}
