{
 "cells": [
  {
   "cell_type": "code",
   "execution_count": 4,
   "metadata": {},
   "outputs": [],
   "source": [
    "import pandas as pd\n",
    "import plotly.express as px\n",
    "import streamlit as st\n",
    "\n",
    "car_data = pd.read_csv('vehicles_us.csv') # leer los datos\n",
    "hist_button = st.button('Construir histograma') # crear un botón\n",
    "scatter_button = st.button('Construir gráfico de dispersión') # crear un botón para el gráfico de dispersión\n",
    "\n",
    "\n",
    "if hist_button: # al hacer clic en el botón\n",
    "    # escribir un mensaje\n",
    "    st.write('Creación de un histograma para el conjunto de datos de anuncios de venta de coches')\n",
    "    \n",
    "    # crear un histograma\n",
    "    fig = px.histogram(car_data, x=\"odometer\")\n",
    "\n",
    "    # mostrar un gráfico Plotly interactivo\n",
    "    st.plotly_chart(fig, use_container_width=True)\n",
    "\n",
    "if scatter_button:\n",
    "    st.write('Construcción de un gráfico de dispersión para el conjunto de datos de anuncios de venta de coches')\n",
    "    fig_scatter = px.scatter(car_data, x=\"odometer\", y=\"price\", title=\"Gráfico de Dispersión\")\n",
    "    st.plotly_chart(fig_scatter, use_container_width=True)"
   ]
  }
 ],
 "metadata": {
  "kernelspec": {
   "display_name": "Python 3",
   "language": "python",
   "name": "python3"
  },
  "language_info": {
   "codemirror_mode": {
    "name": "ipython",
    "version": 3
   },
   "file_extension": ".py",
   "mimetype": "text/x-python",
   "name": "python",
   "nbconvert_exporter": "python",
   "pygments_lexer": "ipython3",
   "version": "3.12.0"
  }
 },
 "nbformat": 4,
 "nbformat_minor": 2
}
